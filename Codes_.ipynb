{
  "nbformat": 4,
  "nbformat_minor": 0,
  "metadata": {
    "colab": {
      "provenance": []
    },
    "kernelspec": {
      "name": "python3",
      "display_name": "Python 3"
    },
    "language_info": {
      "name": "python"
    }
  },
  "cells": [
    {
      "cell_type": "code",
      "execution_count": null,
      "metadata": {
        "id": "Qomv3JJWlqMx"
      },
      "outputs": [],
      "source": [
        "// Include the required libraries\n",
        "#include <WiFi.h>\n",
        "\n",
        "// Define the pin where the LM35 sensor is connected\n",
        "const int lm35Pin = 32; // Example pin, adjust as necessary\n",
        "\n",
        "// WiFi credentials\n",
        "const char* ssid = \"YourWiFiSSID\";\n",
        "const char* password = \"YourWiFiPassword\";\n",
        "\n",
        "// Initialize the WiFi client object\n",
        "WiFiClient client;\n",
        "\n",
        "void setup() {\n",
        "  // Initialize serial communication for debugging\n",
        "  Serial.begin(115200);\n",
        "\n",
        "  // Connect to WiFi network\n",
        "  Serial.println();\n",
        "  Serial.println();\n",
        "  Serial.print(\"Connecting to \");\n",
        "  Serial.println(ssid);\n",
        "\n",
        "  WiFi.begin(ssid, password);\n",
        "\n",
        "  while (WiFi.status() != WL_CONNECTED) {\n",
        "    delay(500);\n",
        "    Serial.print(\".\");\n",
        "  }\n",
        "\n",
        "  Serial.println(\"\");\n",
        "  Serial.println(\"WiFi connected\");\n",
        "  Serial.println(\"IP address: \");\n",
        "  Serial.println(WiFi.localIP());\n",
        "}\n",
        "\n",
        "void loop() {\n",
        "  // Read the analog value from the LM35 sensor\n",
        "  int sensorValue = analogRead(lm35Pin);\n",
        "\n",
        "  // Convert the analog value to temperature in Celsius\n",
        "  float temperatureC = (sensorValue / 4095.0) * 3300 / 10;\n",
        "\n",
        "  // Print the temperature value to the Serial monitor\n",
        "  Serial.print(\"Temperature: \");\n",
        "  Serial.print(temperatureC);\n",
        "  Serial.println(\" °C\");\n",
        "\n",
        "  // Wait for a few seconds before taking the next reading\n",
        "  delay(5000);\n",
        "}"
      ]
    },
    {
      "cell_type": "code",
      "source": [
        "#include <Wire.h>\n",
        "#include \"MAX30105.h\"\n",
        "\n",
        "MAX30105 particleSensor;\n",
        "\n",
        "void setup() {\n",
        "  Serial.begin(115200);\n",
        "\n",
        "  // Initialize the I2C communication\n",
        "  Wire.begin();\n",
        "\n",
        "  // Initialize the MAX30102 sensor\n",
        "  if (!particleSensor.begin(Wire, I2C_SPEED_FAST)) {\n",
        "    Serial.println(\"MAX30102 was not found. Please check wiring/power.\");\n",
        "    while (1);\n",
        "  }\n",
        "\n",
        "  // Configure sensor settings\n",
        "  particleSensor.setup();\n",
        "\n",
        "  // Enable/disable the LEDS\n",
        "  particleSensor.setPulseAmplitudeRed(0x0A); // Turn off Red LED\n",
        "  particleSensor.setPulseAmplitudeGreen(0x0A); // Turn off IR LED\n",
        "\n",
        "  // Start sensor\n",
        "  particleSensor.start();\n",
        "}\n",
        "\n",
        "void loop() {\n",
        "  // Read raw data from the sensor\n",
        "  if (particleSensor.available()) {\n",
        "    int32_t irValue = particleSensor.getIR();\n",
        "    int32_t redValue = particleSensor.getRed();\n",
        "    Serial.print(\"IR: \");\n",
        "    Serial.print(irValue);\n",
        "    Serial.print(\" , Red: \");\n",
        "    Serial.println(redValue);\n",
        "  }\n",
        "}\n"
      ],
      "metadata": {
        "id": "q316mpVzmlEY"
      },
      "execution_count": null,
      "outputs": []
    }
  ]
}